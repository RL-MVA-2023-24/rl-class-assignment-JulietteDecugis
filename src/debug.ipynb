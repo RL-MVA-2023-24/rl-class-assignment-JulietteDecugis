{
 "cells": [
  {
   "cell_type": "code",
   "execution_count": 1,
   "metadata": {},
   "outputs": [],
   "source": [
    "import numpy as np\n",
    "import torch\n",
    "import torch.nn as nn"
   ]
  },
  {
   "cell_type": "code",
   "execution_count": 2,
   "metadata": {},
   "outputs": [],
   "source": [
    "losses = np.load('/Users/juliette/Documents/GitHub/rl-class-assignment-JulietteDecugis/src/losses.npy')\n",
    "episodes = np.load('/Users/juliette/Documents/GitHub/rl-class-assignment-JulietteDecugis/src/episodes.npy')"
   ]
  },
  {
   "cell_type": "code",
   "execution_count": 3,
   "metadata": {},
   "outputs": [],
   "source": [
    "import matplotlib.pyplot as plt"
   ]
  },
  {
   "cell_type": "code",
   "execution_count": 4,
   "metadata": {},
   "outputs": [
    {
     "data": {
      "text/plain": [
       "[<matplotlib.lines.Line2D at 0x164dedc90>]"
      ]
     },
     "execution_count": 4,
     "metadata": {},
     "output_type": "execute_result"
    },
    {
     "data": {
      "image/png": "[encoded data removed]",
      "text/plain": [
       "<Figure size 640x480 with 1 Axes>"
      ]
     },
     "metadata": {},
     "output_type": "display_data"
    }
   ],
   "source": [
    "plt.plot(episodes)"
   ]
  },
  {
   "cell_type": "code",
   "execution_count": 5,
   "metadata": {},
   "outputs": [],
   "source": [
    "from env_hiv import HIVPatient\n",
    "from gymnasium.wrappers import TimeLimit\n",
    "\n",
    "env = TimeLimit(\n",
    "    env=HIVPatient(domain_randomization=False), max_episode_steps=200\n",
    ")  # The time wrapper limits the number of steps in an episode at 200."
   ]
  },
  {
   "cell_type": "code",
   "execution_count": 6,
   "metadata": {},
   "outputs": [],
   "source": [
    "from interface import Agent\n",
    "import gymnasium as gym\n",
    "\n",
    "def evaluate_agent(agent: Agent, env: gym.Env, nb_episode: int = 10) -> float:\n",
    "    \"\"\"\n",
    "    Evaluate an agent in a given environment.\n",
    "\n",
    "    Args:\n",
    "        agent (Agent): The agent to evaluate.\n",
    "        env (gym.Env): The environment to evaluate the agent in.\n",
    "        nb_episode (int): The number of episode to evaluate the agent.\n",
    "\n",
    "    Returns:\n",
    "        float: The mean reward of the agent over the episodes.\n",
    "    \"\"\"\n",
    "    rewards: list[float] = []\n",
    "    for _ in range(nb_episode):\n",
    "        obs, info = env.reset()\n",
    "        done = False\n",
    "        truncated = False\n",
    "        episode_reward = 0\n",
    "        while not done and not truncated:\n",
    "            action = agent.act(obs)\n",
    "            obs, reward, done, truncated, _ = env.step(action)\n",
    "            episode_reward += reward\n",
    "        rewards.append(episode_reward)\n",
    "    return rewards"
   ]
  },
  {
   "cell_type": "code",
   "execution_count": 7,
   "metadata": {},
   "outputs": [],
   "source": [
    "from train import ProjectAgent\n",
    "\n",
    "model_small = ProjectAgent()\n",
    "model_small.load()"
   ]
  },
  {
   "cell_type": "code",
   "execution_count": 15,
   "metadata": {},
   "outputs": [
    {
     "name": "stdout",
     "output_type": "stream",
     "text": [
      "6008.100000000002\n",
      "16198.526983450136\n",
      "25372.086107021147\n",
      "36522.17699502292\n",
      "39628.329735583015\n",
      "42294.863378511036\n",
      "53676.795336699215\n",
      "69729.84757863324\n",
      "94356.75649309177\n",
      "92596.63506899725\n",
      "94244.20618844939\n",
      "105078.56100489266\n",
      "119016.05791722171\n",
      "133521.0729072438\n",
      "145698.63885132\n",
      "152506.0214195968\n",
      "151802.85021216664\n",
      "143344.18632018974\n",
      "127054.96593109993\n",
      "119788.75981247328\n",
      "108602.00657819712\n",
      "104255.69505605694\n",
      "94466.52462579041\n",
      "88662.47005295615\n",
      "90335.63485079465\n",
      "84693.62067590118\n",
      "80494.35248953041\n",
      "82056.32293403134\n",
      "75054.2181162142\n",
      "69686.77365496522\n",
      "66881.9513816771\n",
      "66757.37276170866\n",
      "70673.7612021421\n",
      "64381.393759656145\n",
      "59197.9624236462\n",
      "55401.62953139124\n",
      "53259.39540982997\n",
      "52447.25155991051\n",
      "52663.394496249246\n",
      "53618.25835778203\n",
      "55030.15496927417\n",
      "56626.72974846347\n",
      "58152.16159636577\n",
      "59379.06240093375\n",
      "60122.70353641055\n",
      "60254.15602620686\n",
      "59708.79991826838\n",
      "58487.656825266306\n",
      "56650.82258264091\n",
      "54304.27237557266\n",
      "51582.79100384025\n",
      "48632.31085414671\n",
      "45594.4927425774\n",
      "42595.30147289847\n",
      "39738.108605243455\n",
      "37100.90772051178\n",
      "34736.72072908777\n",
      "32676.147767277133\n",
      "30931.10342762725\n",
      "29498.949639622253\n",
      "28366.422425424513\n",
      "27512.95150064517\n",
      "26913.184126744498\n",
      "26538.720781746426\n",
      "26359.214758410722\n",
      "26343.060569228597\n",
      "26457.900592995276\n",
      "26671.13537551467\n",
      "26950.553880484043\n",
      "27265.125196703124\n",
      "27585.92603848443\n",
      "27887.12713943744\n",
      "28146.93121940396\n",
      "28348.347709803566\n",
      "28479.704005836145\n",
      "28534.825577043448\n",
      "28512.860791116138\n",
      "28417.77208840119\n",
      "28257.554693034126\n",
      "28043.27097153561\n",
      "27787.999800972597\n",
      "27505.796381559052\n",
      "27210.742111010346\n",
      "26916.14121121462\n",
      "26633.895702484762\n",
      "26374.067167863694\n",
      "26144.615313551534\n",
      "25951.29095439369\n",
      "25797.654817039154\n",
      "25685.192580085957\n",
      "25613.499381538204\n",
      "25580.511910748282\n",
      "25582.77156741471\n",
      "25615.706789474098\n",
      "25673.92581468787\n",
      "25751.51266477553\n",
      "25842.319277629522\n",
      "25940.24599253702\n",
      "26039.50165221637\n",
      "26134.834015230375\n",
      "26221.721407477304\n",
      "26296.517797375524\n",
      "26356.545738617653\n",
      "26400.134665521742\n",
      "26426.605484199725\n",
      "26436.205848343416\n",
      "26430.00352778858\n",
      "26409.747542285226\n",
      "26377.708042780265\n",
      "26336.506224768207\n",
      "26288.944934495157\n",
      "26237.84926322098\n",
      "26185.92456074049\n",
      "26135.637194352268\n",
      "26089.121266770897\n",
      "26048.112568883756\n",
      "26013.909400253826\n",
      "25987.358598246705\n",
      "25968.864178421412\n",
      "25958.415369355054\n",
      "25955.630468809177\n",
      "25959.812794756457\n",
      "25970.01500101278\n",
      "25985.108133523736\n",
      "26003.85199568759\n",
      "26024.963658460634\n",
      "26047.181290554363\n",
      "26069.320895229444\n",
      "26090.32401950017\n",
      "26109.29503869451\n",
      "26125.527195876195\n",
      "26138.51716564152\n",
      "26147.96848427447\n",
      "26153.78471081457\n",
      "26156.053626439054\n",
      "26155.024118999696\n",
      "26151.077620617412\n",
      "26144.69606389032\n",
      "26136.428301319465\n",
      "26126.85680630565\n",
      "26116.566262161257\n",
      "26106.115371334854\n",
      "26096.012904919746\n",
      "26086.698685748644\n",
      "26078.52987736376\n",
      "26071.77265233217\n",
      "26066.599048893564\n",
      "26063.088602754906\n",
      "26061.234165214748\n",
      "26060.951191031254\n",
      "26062.089698462245\n",
      "26064.448067124726\n",
      "26067.787842892736\n",
      "26071.848758418477\n",
      "26076.363247800782\n",
      "26081.06982880406\n",
      "26085.724839773888\n",
      "26090.112144675804\n",
      "26094.050552060642\n",
      "26097.398825835873\n",
      "26100.058291474772\n",
      "26101.97315529966\n",
      "26103.12875221308\n",
      "26103.548015302244\n",
      "26103.28651697797\n",
      "26102.426464887372\n",
      "26101.070047249625\n",
      "26099.332513112626\n",
      "26097.335345876738\n",
      "26095.1998465828\n",
      "26093.041390571703\n",
      "26090.964561089\n",
      "26089.05929997847\n",
      "26087.39815230097\n",
      "26086.034621570685\n",
      "26085.00259786885\n",
      "26084.31677430751\n",
      "26083.973929515007\n",
      "26083.954925792154\n",
      "26084.227254534337\n",
      "26084.7479522393\n",
      "26085.466711222994\n",
      "26086.329018100292\n",
      "26087.279168884805\n",
      "26088.26303082799\n",
      "26089.2304462995\n",
      "26090.13720157167\n",
      "26090.946511791335\n",
      "26091.63000127695\n",
      "26092.16818432563\n",
      "26092.550474886288\n",
      "26092.77477294806\n",
      "26092.846690718383\n",
      "26092.77849235513\n",
      "26092.58782707386\n",
      "26092.296337094267\n",
      "26091.928219450358\n",
      "26091.50881474899\n",
      "26091.063287117413\n",
      "26090.615448624056\n",
      "6008.100000000002\n"
     ]
    },
    {
     "ename": "KeyboardInterrupt",
     "evalue": "",
     "output_type": "error",
     "traceback": [
      "\u001b[0;31m---------------------------------------------------------------------------\u001b[0m",
      "\u001b[0;31mKeyboardInterrupt\u001b[0m                         Traceback (most recent call last)",
      "Cell \u001b[0;32mIn[15], line 1\u001b[0m\n\u001b[0;32m----> 1\u001b[0m rewards \u001b[39m=\u001b[39m evaluate_agent(model_small, env)\n",
      "Cell \u001b[0;32mIn[14], line 24\u001b[0m, in \u001b[0;36mevaluate_agent\u001b[0;34m(agent, env, nb_episode)\u001b[0m\n\u001b[1;32m     22\u001b[0m \u001b[39mwhile\u001b[39;00m \u001b[39mnot\u001b[39;00m done \u001b[39mand\u001b[39;00m \u001b[39mnot\u001b[39;00m truncated:\n\u001b[1;32m     23\u001b[0m     action \u001b[39m=\u001b[39m agent\u001b[39m.\u001b[39mact(obs)\n\u001b[0;32m---> 24\u001b[0m     obs, reward, done, truncated, _ \u001b[39m=\u001b[39m env\u001b[39m.\u001b[39mstep(action)\n\u001b[1;32m     25\u001b[0m     \u001b[39mprint\u001b[39m(reward)\n\u001b[1;32m     26\u001b[0m     episode_reward \u001b[39m+\u001b[39m\u001b[39m=\u001b[39m reward\n",
      "File \u001b[0;32m~/anaconda3/envs/compstat/lib/python3.11/site-packages/gymnasium/wrappers/time_limit.py:57\u001b[0m, in \u001b[0;36mTimeLimit.step\u001b[0;34m(self, action)\u001b[0m\n\u001b[1;32m     46\u001b[0m \u001b[39mdef\u001b[39;00m \u001b[39mstep\u001b[39m(\u001b[39mself\u001b[39m, action):\n\u001b[1;32m     47\u001b[0m \u001b[39m    \u001b[39m\u001b[39m\"\"\"Steps through the environment and if the number of steps elapsed exceeds ``max_episode_steps`` then truncate.\u001b[39;00m\n\u001b[1;32m     48\u001b[0m \n\u001b[1;32m     49\u001b[0m \u001b[39m    Args:\u001b[39;00m\n\u001b[0;32m   (...)\u001b[0m\n\u001b[1;32m     55\u001b[0m \n\u001b[1;32m     56\u001b[0m \u001b[39m    \"\"\"\u001b[39;00m\n\u001b[0;32m---> 57\u001b[0m     observation, reward, terminated, truncated, info \u001b[39m=\u001b[39m \u001b[39mself\u001b[39m\u001b[39m.\u001b[39menv\u001b[39m.\u001b[39mstep(action)\n\u001b[1;32m     58\u001b[0m     \u001b[39mself\u001b[39m\u001b[39m.\u001b[39m_elapsed_steps \u001b[39m+\u001b[39m\u001b[39m=\u001b[39m \u001b[39m1\u001b[39m\n\u001b[1;32m     60\u001b[0m     \u001b[39mif\u001b[39;00m \u001b[39mself\u001b[39m\u001b[39m.\u001b[39m_elapsed_steps \u001b[39m>\u001b[39m\u001b[39m=\u001b[39m \u001b[39mself\u001b[39m\u001b[39m.\u001b[39m_max_episode_steps:\n",
      "File \u001b[0;32m~/Documents/GitHub/rl-class-assignment-JulietteDecugis/src/env_hiv.py:231\u001b[0m, in \u001b[0;36mHIVPatient.step\u001b[0;34m(self, a_index)\u001b[0m\n\u001b[1;32m    229\u001b[0m state \u001b[39m=\u001b[39m \u001b[39mself\u001b[39m\u001b[39m.\u001b[39mstate()\n\u001b[1;32m    230\u001b[0m action \u001b[39m=\u001b[39m \u001b[39mself\u001b[39m\u001b[39m.\u001b[39maction_set[a_index]\n\u001b[0;32m--> 231\u001b[0m state2 \u001b[39m=\u001b[39m \u001b[39mself\u001b[39m\u001b[39m.\u001b[39mtransition(state, action, \u001b[39m5\u001b[39m)\n\u001b[1;32m    232\u001b[0m rew \u001b[39m=\u001b[39m \u001b[39mself\u001b[39m\u001b[39m.\u001b[39mreward(state, action, state2)\n\u001b[1;32m    233\u001b[0m \u001b[39mif\u001b[39;00m \u001b[39mself\u001b[39m\u001b[39m.\u001b[39mclipping:\n",
      "File \u001b[0;32m~/Documents/GitHub/rl-class-assignment-JulietteDecugis/src/env_hiv.py:212\u001b[0m, in \u001b[0;36mHIVPatient.transition\u001b[0;34m(self, state, action, duration)\u001b[0m\n\u001b[1;32m    210\u001b[0m nb_steps \u001b[39m=\u001b[39m \u001b[39mint\u001b[39m(duration \u001b[39m/\u001b[39m\u001b[39m/\u001b[39m \u001b[39m1e-3\u001b[39m)\n\u001b[1;32m    211\u001b[0m \u001b[39mfor\u001b[39;00m i \u001b[39min\u001b[39;00m \u001b[39mrange\u001b[39m(nb_steps):\n\u001b[0;32m--> 212\u001b[0m     der \u001b[39m=\u001b[39m \u001b[39mself\u001b[39m\u001b[39m.\u001b[39mder(state0, action)\n\u001b[1;32m    213\u001b[0m     state1 \u001b[39m=\u001b[39m state0 \u001b[39m+\u001b[39m der \u001b[39m*\u001b[39m \u001b[39m1e-3\u001b[39m\n\u001b[1;32m    215\u001b[0m     \u001b[39m# np.clip(state1, self.lower, self.upper, out=state1)\u001b[39;00m\n",
      "File \u001b[0;32m~/Documents/GitHub/rl-class-assignment-JulietteDecugis/src/env_hiv.py:204\u001b[0m, in \u001b[0;36mHIVPatient.der\u001b[0;34m(self, state, action)\u001b[0m\n\u001b[1;32m    189\u001b[0m Vdot \u001b[39m=\u001b[39m (\n\u001b[1;32m    190\u001b[0m     \u001b[39mself\u001b[39m\u001b[39m.\u001b[39mNT \u001b[39m*\u001b[39m \u001b[39mself\u001b[39m\u001b[39m.\u001b[39mdelta \u001b[39m*\u001b[39m (\u001b[39m1\u001b[39m \u001b[39m-\u001b[39m eps2) \u001b[39m*\u001b[39m (T1star \u001b[39m+\u001b[39m T2star)\n\u001b[1;32m    191\u001b[0m     \u001b[39m-\u001b[39m \u001b[39mself\u001b[39m\u001b[39m.\u001b[39mc \u001b[39m*\u001b[39m V\n\u001b[0;32m   (...)\u001b[0m\n\u001b[1;32m    196\u001b[0m     \u001b[39m*\u001b[39m V\n\u001b[1;32m    197\u001b[0m )\n\u001b[1;32m    198\u001b[0m Edot \u001b[39m=\u001b[39m (\n\u001b[1;32m    199\u001b[0m     \u001b[39mself\u001b[39m\u001b[39m.\u001b[39mlambdaE\n\u001b[1;32m    200\u001b[0m     \u001b[39m+\u001b[39m \u001b[39mself\u001b[39m\u001b[39m.\u001b[39mbE \u001b[39m*\u001b[39m (T1star \u001b[39m+\u001b[39m T2star) \u001b[39m*\u001b[39m E \u001b[39m/\u001b[39m (T1star \u001b[39m+\u001b[39m T2star \u001b[39m+\u001b[39m \u001b[39mself\u001b[39m\u001b[39m.\u001b[39mKb)\n\u001b[1;32m    201\u001b[0m     \u001b[39m-\u001b[39m \u001b[39mself\u001b[39m\u001b[39m.\u001b[39mdE \u001b[39m*\u001b[39m (T1star \u001b[39m+\u001b[39m T2star) \u001b[39m*\u001b[39m E \u001b[39m/\u001b[39m (T1star \u001b[39m+\u001b[39m T2star \u001b[39m+\u001b[39m \u001b[39mself\u001b[39m\u001b[39m.\u001b[39mKd)\n\u001b[1;32m    202\u001b[0m     \u001b[39m-\u001b[39m \u001b[39mself\u001b[39m\u001b[39m.\u001b[39mdeltaE \u001b[39m*\u001b[39m E\n\u001b[1;32m    203\u001b[0m )\n\u001b[0;32m--> 204\u001b[0m \u001b[39mreturn\u001b[39;00m np\u001b[39m.\u001b[39marray([T1dot, T1stardot, T2dot, T2stardot, Vdot, Edot])\n",
      "\u001b[0;31mKeyboardInterrupt\u001b[0m: "
     ]
    }
   ],
   "source": [
    "rewards = evaluate_agent(model_small, env)"
   ]
  },
  {
   "cell_type": "code",
   "execution_count": null,
   "metadata": {},
   "outputs": [
    {
     "data": {
      "text/plain": [
       "[<matplotlib.lines.Line2D at 0x117249d50>]"
      ]
     },
     "execution_count": 20,
     "metadata": {},
     "output_type": "execute_result"
    },
    {
     "data": {
      "image/png": "[encoded data removed]",
      "text/plain": [
       "<Figure size 640x480 with 1 Axes>"
      ]
     },
     "metadata": {},
     "output_type": "display_data"
    }
   ],
   "source": [
    "plt.plot(losses)"
   ]
  }
 ],
 "metadata": {
  "kernelspec": {
   "display_name": "compstat",
   "language": "python",
   "name": "python3"
  },
  "language_info": {
   "codemirror_mode": {
    "name": "ipython",
    "version": 3
   },
   "file_extension": ".py",
   "mimetype": "text/x-python",
   "name": "python",
   "nbconvert_exporter": "python",
   "pygments_lexer": "ipython3",
   "version": "3.11.5"
  },
  "orig_nbformat": 4
 },
 "nbformat": 4,
 "nbformat_minor": 2
}
